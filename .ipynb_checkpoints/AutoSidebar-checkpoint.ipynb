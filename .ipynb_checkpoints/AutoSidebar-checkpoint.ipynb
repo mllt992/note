{
 "cells": [
  {
   "cell_type": "code",
   "execution_count": 10,
   "id": "e3c8aa76",
   "metadata": {},
   "outputs": [],
   "source": [
    "import os"
   ]
  },
  {
   "cell_type": "code",
   "execution_count": 16,
   "id": "e09e3054",
   "metadata": {},
   "outputs": [
    {
     "ename": "SyntaxError",
     "evalue": "invalid syntax (<ipython-input-16-165ccc299806>, line 24)",
     "output_type": "error",
     "traceback": [
      "\u001b[1;36m  File \u001b[1;32m\"<ipython-input-16-165ccc299806>\"\u001b[1;36m, line \u001b[1;32m24\u001b[0m\n\u001b[1;33m    if i[:1]!=\".\" & i[:1]!=\"_\" & i[-3::1]=\".md\":\u001b[0m\n\u001b[1;37m                                         ^\u001b[0m\n\u001b[1;31mSyntaxError\u001b[0m\u001b[1;31m:\u001b[0m invalid syntax\n"
     ]
    }
   ],
   "source": [
    "content = \" - [首页](/首页.md)\"\n",
    "# 我不会在项目根目录下放太多的文件，所以就不读取项目根目录下的md文件了\n",
    "# 读取根目录下文件夹\n",
    "path_base=\"./\"\n",
    "fileList = os.listdir(path_base)\n",
    "\n",
    "        \n",
    "def getMD(path):\n",
    "    \"\"\"\n",
    "    path:路径\n",
    "    \"\"\"\n",
    "    # 获取目录下文件和文件夹\n",
    "    files = os.listdir(path_base+path)\n",
    "    # 遍历结果，依次处理\n",
    "    for i in files:\n",
    "        # 判断是不是文件夹\n",
    "        if os.path.isdir(i):\n",
    "            # 判断是不是隐藏文件夹，如果是隐藏文件夹则不添加路径\n",
    "            if i[0:1:1] != \".\":\n",
    "                content +=\"/n\"+\"- \"+ i\n",
    "                getMD(i)          \n",
    "        else:\n",
    "            # 如果不是文件夹，判断是不是隐藏文件\n",
    "            if i[:1]!=\".\" & i[:1]!=\"_\" & i[-3::1]=\".md\":\n",
    "                content +=\"/n\"+\"- [\"+ i +\"](\"+basepath+path+\"/\"+i+\".md\"+\")\"\n",
    " \n",
    "for i in fileList:\n",
    "    print(\"获取到了:\"+i)\n",
    "    # 判断是不是文件夹\n",
    "    if os.path.isdir(i):\n",
    "        print(i+\"是个文件夹\")\n",
    "        content +=\"/n\"+\"- \"+ i\n",
    "        # 读取目录下文件\n",
    "        getMD(i)"
   ]
  },
  {
   "cell_type": "code",
   "execution_count": null,
   "id": "8a6c9b0f",
   "metadata": {},
   "outputs": [],
   "source": []
  },
  {
   "cell_type": "code",
   "execution_count": null,
   "id": "dabbccd5",
   "metadata": {},
   "outputs": [],
   "source": []
  }
 ],
 "metadata": {
  "kernelspec": {
   "display_name": "Python 3",
   "language": "python",
   "name": "python3"
  },
  "language_info": {
   "codemirror_mode": {
    "name": "ipython",
    "version": 3
   },
   "file_extension": ".py",
   "mimetype": "text/x-python",
   "name": "python",
   "nbconvert_exporter": "python",
   "pygments_lexer": "ipython3",
   "version": "3.7.6"
  }
 },
 "nbformat": 4,
 "nbformat_minor": 5
}
