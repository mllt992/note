{
 "cells": [
  {
   "cell_type": "code",
   "execution_count": null,
   "id": "e09e3054",
   "metadata": {},
   "outputs": [
    {
     "ename": "",
     "evalue": "",
     "output_type": "error",
     "traceback": [
      "\u001b[1;31mRunning cells with 'Python 3.10.0 64-bit' requires ipykernel package.\n",
      "\u001b[1;31mRun the following command to install 'ipykernel' into the Python environment. \n",
      "\u001b[1;31mCommand: 'd:/SoftwareInstall/Python/Python31/python.exe -m pip install ipykernel -U --user --force-reinstall'"
     ]
    }
   ],
   "source": [
    "import os\n",
    "content = '- [首页](/首页.md)\\n'\n",
    "# 我不会在项目根目录下放太多的文件，所以就不读取项目根目录下的md文件了\n",
    "# 读取根目录下文件夹\n",
    "path_base=\"./\"\n",
    "fileList = os.listdir(path_base)\n",
    "        \n",
    "def getMD(path,tabs):\n",
    "    \"\"\"\n",
    "    path:路径\n",
    "    \"\"\"\n",
    "    global content\n",
    "    # 获取目录下文件和文件夹\n",
    "    files = os.listdir(path_base+path)\n",
    "    # print(files)\n",
    "    # 遍历结果，依次处理\n",
    "    for i in files:\n",
    "        # 判断是不是文件夹\n",
    "        # print(\"获取到\"+path_base+path+\"/\"+i)\n",
    "        if os.path.isdir(path_base+path+\"/\"+i):\n",
    "            # print(i+\"是文件夹\")\n",
    "            # 判断是不是隐藏文件夹，如果是隐藏文件夹则不添加路径\n",
    "            if i[0:1:1] != \".\" and i!=\"public\":\n",
    "                # print(i+\"符合要求\")\n",
    "                content +=tabs+\"- \"+ i+\"\\n\"\n",
    "                getMD(path+\"/\"+i,tabs+\"\\t\")\n",
    "        else:\n",
    "            # print(i+\"是文件\")\n",
    "            # 如果不是文件夹，判断是不是隐藏文件\n",
    "            if i[:1]!=\".\" and i[:1]!=\"_\" and i[-3::1]==\".md\":\n",
    "                # print(i+\"符合要求\")\n",
    "                content +=tabs+\"- [\"+ i +\"](\"+path_base[1:]+path+\"/\"+i+\")\"+\"\\n\"\n",
    "for i in fileList:\n",
    "    # 判断是不是文件夹\n",
    "    if os.path.isdir(path_base+i):\n",
    "        if i[0:1:1] != \".\" and i!=\"public\":\n",
    "            content +=\"- \"+ i+\"\\n\"\n",
    "            # 读取目录下文件\n",
    "            getMD(i,\"\\t\")\n",
    "\n",
    "print(content)\n",
    "\n",
    "with open(\"_sidebar.md\",\"w+\",encoding=\"utf-8\") as f:\n",
    "    f.write(content)"
   ]
  },
  {
   "cell_type": "code",
   "execution_count": null,
   "id": "8a6c9b0f",
   "metadata": {},
   "outputs": [
    {
     "ename": "",
     "evalue": "",
     "output_type": "error",
     "traceback": [
      "\u001b[1;31mRunning cells with 'Python 3.10.0 64-bit' requires ipykernel package.\n",
      "\u001b[1;31mRun the following command to install 'ipykernel' into the Python environment. \n",
      "\u001b[1;31mCommand: 'd:/SoftwareInstall/Python/Python31/python.exe -m pip install ipykernel -U --user --force-reinstall'"
     ]
    }
   ],
   "source": []
  },
  {
   "cell_type": "code",
   "execution_count": null,
   "id": "dabbccd5",
   "metadata": {},
   "outputs": [
    {
     "ename": "",
     "evalue": "",
     "output_type": "error",
     "traceback": [
      "\u001b[1;31mRunning cells with 'Python 3.10.0 64-bit' requires ipykernel package.\n",
      "\u001b[1;31mRun the following command to install 'ipykernel' into the Python environment. \n",
      "\u001b[1;31mCommand: 'd:/SoftwareInstall/Python/Python31/python.exe -m pip install ipykernel -U --user --force-reinstall'"
     ]
    }
   ],
   "source": []
  }
 ],
 "metadata": {
  "kernelspec": {
   "display_name": "Python 3.10.0 64-bit",
   "language": "python",
   "name": "python3"
  },
  "language_info": {
   "codemirror_mode": {
    "name": "ipython",
    "version": 3
   },
   "file_extension": ".py",
   "mimetype": "text/x-python",
   "name": "python",
   "nbconvert_exporter": "python",
   "pygments_lexer": "ipython3",
   "version": "3.10.0"
  },
  "vscode": {
   "interpreter": {
    "hash": "87fcd885cfffa4dcfeded5565d838249f5438379583cf91bf360e464389a9473"
   }
  }
 },
 "nbformat": 4,
 "nbformat_minor": 5
}
